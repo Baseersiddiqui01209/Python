{
 "cells": [
  {
   "cell_type": "markdown",
   "id": "8a1e96f8",
   "metadata": {},
   "source": [
    "# program to find comman elements between two list\n",
    "\n"
   ]
  },
  {
   "cell_type": "code",
   "execution_count": 1,
   "id": "c9ffecfd",
   "metadata": {},
   "outputs": [
    {
     "name": "stdout",
     "output_type": "stream",
     "text": [
      "{1, 73, 47, 15, 89}\n"
     ]
    }
   ],
   "source": [
    "kj=[1,20,32,15,45,47,31,46,73,19,16,72,89,35]\n",
    "lm=[14,48,81,99,13,43,78,26,41,79,15,40,89,1,73,47]\n",
    "sd=set(kj)\n",
    "ae=set(lm)\n",
    "print(sd.intersection(ae))"
   ]
  },
  {
   "cell_type": "code",
   "execution_count": 2,
   "id": "ce36ba78",
   "metadata": {},
   "outputs": [
    {
     "data": {
      "text/plain": [
       "'Fixed'"
      ]
     },
     "execution_count": 2,
     "metadata": {},
     "output_type": "execute_result"
    }
   ],
   "source": [
    "#program to captlize first letter in a word\n",
    "sb='fixed'\n",
    "sb.capitalize()"
   ]
  },
  {
   "cell_type": "code",
   "execution_count": 3,
   "id": "d5ef61e0",
   "metadata": {},
   "outputs": [
    {
     "data": {
      "text/plain": [
       "7"
      ]
     },
     "execution_count": 3,
     "metadata": {},
     "output_type": "execute_result"
    }
   ],
   "source": [
    "#find the length longest word in given sentence\n",
    "mac='this thing is getting out of our hands'\n",
    "longest = max(mac.split(), key=len)\n",
    "len(longest)"
   ]
  },
  {
   "cell_type": "code",
   "execution_count": 4,
   "id": "a7ccbee3",
   "metadata": {},
   "outputs": [
    {
     "name": "stdout",
     "output_type": "stream",
     "text": [
      "list is not empty\n"
     ]
    }
   ],
   "source": [
    "#check if a list is empty or not\n",
    "ow=[1,2,3,4,5,6,7,8,9]\n",
    "if len(ow)==0:\n",
    "    print('list is empty')\n",
    "else:\n",
    "    print('list is not empty')"
   ]
  },
  {
   "cell_type": "code",
   "execution_count": 5,
   "id": "a2726615",
   "metadata": {},
   "outputs": [
    {
     "name": "stdout",
     "output_type": "stream",
     "text": [
      "1.4142135623730951\n"
     ]
    }
   ],
   "source": [
    "#calculate the square root of a given number\n",
    "res= 2**0.5\n",
    "print(res)"
   ]
  },
  {
   "cell_type": "code",
   "execution_count": 6,
   "id": "ff527a41",
   "metadata": {},
   "outputs": [
    {
     "data": {
      "text/plain": [
       "89"
      ]
     },
     "execution_count": 6,
     "metadata": {},
     "output_type": "execute_result"
    }
   ],
   "source": [
    "#find the maximum number in list\n",
    "kj=[1,20,32,15,45,47,89,46,73,19,16,72,7,35]\n",
    "max(kj)"
   ]
  },
  {
   "cell_type": "code",
   "execution_count": 7,
   "id": "45e00003",
   "metadata": {},
   "outputs": [
    {
     "data": {
      "text/plain": [
       "'I will be at the room at 10 matute.so better be at time and come at quicky'"
      ]
     },
     "execution_count": 7,
     "metadata": {},
     "output_type": "execute_result"
    }
   ],
   "source": [
    "#replace the all occurance character in a string\n",
    "th='I will be in the room in 10 minute.so better be in time and come in quicky'\n",
    "th.replace('in','at')"
   ]
  },
  {
   "cell_type": "code",
   "execution_count": null,
   "id": "6f7fd3be",
   "metadata": {},
   "outputs": [],
   "source": []
  }
 ],
 "metadata": {
  "kernelspec": {
   "display_name": "Python 3 (ipykernel)",
   "language": "python",
   "name": "python3"
  },
  "language_info": {
   "codemirror_mode": {
    "name": "ipython",
    "version": 3
   },
   "file_extension": ".py",
   "mimetype": "text/x-python",
   "name": "python",
   "nbconvert_exporter": "python",
   "pygments_lexer": "ipython3",
   "version": "3.10.9"
  }
 },
 "nbformat": 4,
 "nbformat_minor": 5
}
