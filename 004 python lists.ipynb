{
 "cells": [
  {
   "cell_type": "markdown",
   "id": "780adf68",
   "metadata": {},
   "source": [
    "LISTS\n",
    "\n",
    "#Lists are used to store multiple items in a single variable.\n",
    "\n",
    "Lists are one of 4 built-in data types in Python used to store collections of data, the other 3 are Tuple, Set, and Dictionary, all with different qualities and usage.\n",
    "\n",
    "Lists are created using square brackets\n",
    "\n",
    "ExampleGet your own Python Server\n",
    "Create a List:\n",
    "thislist)\n"
   ]
  },
  {
   "cell_type": "code",
   "execution_count": 3,
   "id": "fd6f001b",
   "metadata": {},
   "outputs": [
    {
     "name": "stdout",
     "output_type": "stream",
     "text": [
      "['apple', 'banana', 'cherry']\n"
     ]
    }
   ],
   "source": [
    "\n",
    "#Create a List:\n",
    "\n",
    "thislist = [\"apple\", \"banana\", \"cherry\"]\n",
    "print(thislist)\n"
   ]
  },
  {
   "cell_type": "code",
   "execution_count": 8,
   "id": "92787784",
   "metadata": {},
   "outputs": [
    {
     "name": "stdout",
     "output_type": "stream",
     "text": [
      "[1, 2, 3, 4, 5, 6]\n",
      "<class 'list'>\n"
     ]
    }
   ],
   "source": [
    "b1 = [1,2,3,4,5,6]\n",
    "print(b1)\n",
    "print(type(b1))\n"
   ]
  },
  {
   "cell_type": "code",
   "execution_count": 9,
   "id": "934f2f8d",
   "metadata": {},
   "outputs": [
    {
     "name": "stdout",
     "output_type": "stream",
     "text": [
      "[1, 2, 3, 4, 5, 6] [5, 6, 7, 8]\n"
     ]
    }
   ],
   "source": [
    "b2 =[5,6,7,8]\n",
    "print(b1,b2)"
   ]
  },
  {
   "cell_type": "markdown",
   "id": "11b4366b",
   "metadata": {},
   "source": [
    "#INDEX \n",
    "\n",
    "In Python, indexing refers to the process of accessing a specific element in a sequence, such as a string or list, using its position or index number. Indexing in Python starts at 0, which means that the first element in a sequence has an index of 0, the second element has an index of 1, and so on. For example, if we have a string \"Hello\", we can access the first letter \"H\" using its index 0 by using the square bracket notation: string[0].\n",
    "\n",
    "Python's built-in index() function is a useful tool for finding the index of a specific element in a sequence. This function takes an argument representing the value to search for and returns the index of the first occurrence of that value in the sequence.\n",
    "\n",
    "If the value is not found in the sequence, the function raises a ValueError. For example, if we have a list [1, 2, 3, 4, 5], we can find the index of the value 3 by calling list.index(3), which will return the value 2 (since 3 is the third element in the list, and indexing starts at 0).\n",
    "\n",
    "The index() function is a powerful tool in Python as it simplifies the process of finding the index of an element in a sequence, eliminating the need for writing loops or conditional statements. This function is especially useful when working with large datasets or complex structures, where manual searching could be time-consuming and error-prone."
   ]
  },
  {
   "cell_type": "code",
   "execution_count": 10,
   "id": "e03422c9",
   "metadata": {},
   "outputs": [
    {
     "data": {
      "text/plain": [
       "4"
      ]
     },
     "execution_count": 10,
     "metadata": {},
     "output_type": "execute_result"
    }
   ],
   "source": [
    "#index\n",
    "index= [1,2,3,4,5,6]\n",
    "index[3]\n"
   ]
  },
  {
   "cell_type": "code",
   "execution_count": 11,
   "id": "e9cd69be",
   "metadata": {},
   "outputs": [
    {
     "data": {
      "text/plain": [
       "3"
      ]
     },
     "execution_count": 11,
     "metadata": {},
     "output_type": "execute_result"
    }
   ],
   "source": [
    "index[2]\n"
   ]
  },
  {
   "cell_type": "markdown",
   "id": "f1bc2ad9",
   "metadata": {},
   "source": [
    "# we have two index one is positive index, another is negative index\n",
    "\n",
    "Python allows positive indexing starting at zero and negative indexing starting at -1. In Python, negative indexing denotes that the indexing process begins at the end of the iterable. The final element is located at index -1, the next-to-last at index -2, and so on.\n"
   ]
  },
  {
   "cell_type": "code",
   "execution_count": null,
   "id": "84b64160",
   "metadata": {},
   "outputs": [],
   "source": [
    "index="
   ]
  },
  {
   "cell_type": "code",
   "execution_count": 12,
   "id": "f62482fa",
   "metadata": {},
   "outputs": [
    {
     "data": {
      "text/plain": [
       "4"
      ]
     },
     "execution_count": 12,
     "metadata": {},
     "output_type": "execute_result"
    }
   ],
   "source": [
    "[1,2,3,4,5]\n",
    "index[-3]\n"
   ]
  },
  {
   "cell_type": "markdown",
   "id": "6101152e",
   "metadata": {},
   "source": [
    "# slicing \n",
    "\n",
    "In slicing we can calculate more values\n"
   ]
  },
  {
   "cell_type": "code",
   "execution_count": null,
   "id": "c9ee705d",
   "metadata": {},
   "outputs": [],
   "source": [
    "syntax;\n",
    "a= [starting index:ending index] with (n-1)\n"
   ]
  },
  {
   "cell_type": "code",
   "execution_count": 16,
   "id": "0115742d",
   "metadata": {},
   "outputs": [
    {
     "data": {
      "text/plain": [
       "[45, 65, 76]"
      ]
     },
     "execution_count": 16,
     "metadata": {},
     "output_type": "execute_result"
    }
   ],
   "source": [
    "a=[1,2,45,65,76,78]\n",
    "a[2:5]"
   ]
  },
  {
   "cell_type": "markdown",
   "id": "5ea27461",
   "metadata": {},
   "source": [
    "# concatination;\n",
    "Concatenating means obtaining a new string that contains both of the original strings. In Python, there are a few ways to concatenate or combine strings. The new string that is created is referred to as a string object."
   ]
  },
  {
   "cell_type": "code",
   "execution_count": 18,
   "id": "6b5b401d",
   "metadata": {},
   "outputs": [
    {
     "name": "stdout",
     "output_type": "stream",
     "text": [
      "[1, 2, 3, 4, 5, 6, 18, 9, 90]\n"
     ]
    }
   ],
   "source": [
    "p=[1,2,3,4,5,6,]\n",
    "k=[18,9,90,]\n",
    "l=p+k\n",
    "print(l)"
   ]
  },
  {
   "cell_type": "markdown",
   "id": "335d1f2c",
   "metadata": {},
   "source": [
    "# repetation;\n",
    "it is use to repeat the elements\n"
   ]
  },
  {
   "cell_type": "code",
   "execution_count": 20,
   "id": "92014339",
   "metadata": {},
   "outputs": [
    {
     "data": {
      "text/plain": [
       "[18, 9, 90, 18, 9, 90, 18, 9, 90, 18, 9, 90]"
      ]
     },
     "execution_count": 20,
     "metadata": {},
     "output_type": "execute_result"
    }
   ],
   "source": [
    "k*4"
   ]
  },
  {
   "cell_type": "code",
   "execution_count": 22,
   "id": "1759b346",
   "metadata": {},
   "outputs": [
    {
     "data": {
      "text/plain": [
       "[1, 2, 3, 4, 5, 6]"
      ]
     },
     "execution_count": 22,
     "metadata": {},
     "output_type": "execute_result"
    }
   ],
   "source": [
    "p*1"
   ]
  },
  {
   "cell_type": "code",
   "execution_count": null,
   "id": "42fe1b19",
   "metadata": {},
   "outputs": [],
   "source": []
  }
 ],
 "metadata": {
  "kernelspec": {
   "display_name": "Python 3 (ipykernel)",
   "language": "python",
   "name": "python3"
  },
  "language_info": {
   "codemirror_mode": {
    "name": "ipython",
    "version": 3
   },
   "file_extension": ".py",
   "mimetype": "text/x-python",
   "name": "python",
   "nbconvert_exporter": "python",
   "pygments_lexer": "ipython3",
   "version": "3.10.9"
  }
 },
 "nbformat": 4,
 "nbformat_minor": 5
}
