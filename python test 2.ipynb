{
 "cells": [
  {
   "cell_type": "markdown",
   "id": "726cc254",
   "metadata": {},
   "source": [
    "# Data Types :\n",
    "\n",
    "To define the values ​​of various data types of Python and check their data types we use the type() function . Consider the following examples.\n",
    "\n",
    "This code assigns variable ‘x’ different values of various Python data types. They are integer , float , complex , boolean successively. Each assignment replaces the previous value, making ‘x’ take on the data type and value of the most recent assignment.\n",
    "\n",
    "1.int.\n",
    "2.float.\n",
    "3.complex.\n",
    "4.boolen.\n",
    "\n",
    "1.Integers – This value is represented by int class. It contains positive or negative whole numbers (without fractions or decimals). In Python, there is no limit to how long an integer value can be."
   ]
  },
  {
   "cell_type": "code",
   "execution_count": 2,
   "id": "25342ff6",
   "metadata": {},
   "outputs": [
    {
     "name": "stdout",
     "output_type": "stream",
     "text": [
      "40\n"
     ]
    }
   ],
   "source": [
    "a=40\n",
    "print(a)"
   ]
  },
  {
   "cell_type": "code",
   "execution_count": 3,
   "id": "32065ad3",
   "metadata": {},
   "outputs": [
    {
     "name": "stdout",
     "output_type": "stream",
     "text": [
      "400\n"
     ]
    }
   ],
   "source": [
    "dj=400\n",
    "print(dj)"
   ]
  },
  {
   "cell_type": "code",
   "execution_count": 4,
   "id": "29e23d39",
   "metadata": {},
   "outputs": [
    {
     "name": "stdout",
     "output_type": "stream",
     "text": [
      "650\n"
     ]
    }
   ],
   "source": [
    "GT=650\n",
    "print(GT)"
   ]
  },
  {
   "cell_type": "code",
   "execution_count": 5,
   "id": "8115de79",
   "metadata": {},
   "outputs": [
    {
     "name": "stdout",
     "output_type": "stream",
     "text": [
      "5000\n"
     ]
    }
   ],
   "source": [
    "clasic=5000\n",
    "print(clasic)\n",
    "     "
   ]
  },
  {
   "cell_type": "markdown",
   "id": "1720c0a9",
   "metadata": {},
   "source": [
    "# 2.Float\n",
    "This value is represented by the float class. It is a real number with a floating-point representation. It is specified by a decimal point. Optionally, the character e or E followed by a positive or negative integer may be appended to specify scientific notation."
   ]
  },
  {
   "cell_type": "code",
   "execution_count": 6,
   "id": "e4454401",
   "metadata": {},
   "outputs": [
    {
     "name": "stdout",
     "output_type": "stream",
     "text": [
      "2.455\n"
     ]
    }
   ],
   "source": [
    "ps=2.455\n",
    "print(ps)"
   ]
  },
  {
   "cell_type": "code",
   "execution_count": 7,
   "id": "29c76560",
   "metadata": {},
   "outputs": [
    {
     "name": "stdout",
     "output_type": "stream",
     "text": [
      "3.88\n"
     ]
    }
   ],
   "source": [
    "jd=3.88\n",
    "print(jd)"
   ]
  },
  {
   "cell_type": "code",
   "execution_count": 8,
   "id": "f709edda",
   "metadata": {},
   "outputs": [
    {
     "name": "stdout",
     "output_type": "stream",
     "text": [
      "9.666666\n"
     ]
    }
   ],
   "source": [
    "op=9.666666\n",
    "print(op)"
   ]
  },
  {
   "cell_type": "code",
   "execution_count": 9,
   "id": "80c7d57d",
   "metadata": {},
   "outputs": [
    {
     "name": "stdout",
     "output_type": "stream",
     "text": [
      "1.0\n"
     ]
    }
   ],
   "source": [
    "f=1.00\n",
    "print(f)"
   ]
  },
  {
   "cell_type": "markdown",
   "id": "4b8cc894",
   "metadata": {},
   "source": [
    "# 3.Complex \n",
    "A complex number is represented by a complex class. It is specified as (real part) + (imaginary part)j . For example – 2+3j\n"
   ]
  },
  {
   "cell_type": "code",
   "execution_count": 10,
   "id": "8c051497",
   "metadata": {},
   "outputs": [
    {
     "name": "stdout",
     "output_type": "stream",
     "text": [
      "(2+7j)\n"
     ]
    }
   ],
   "source": [
    "\n",
    "c=2+7j\n",
    "print(c)"
   ]
  },
  {
   "cell_type": "code",
   "execution_count": 11,
   "id": "e7793578",
   "metadata": {},
   "outputs": [
    {
     "name": "stdout",
     "output_type": "stream",
     "text": [
      "(17+4j)\n"
     ]
    }
   ],
   "source": [
    "lg=17+4j\n",
    "print(lg)\n",
    "     "
   ]
  },
  {
   "cell_type": "code",
   "execution_count": 12,
   "id": "7b40c156",
   "metadata": {},
   "outputs": [
    {
     "name": "stdout",
     "output_type": "stream",
     "text": [
      "(400+300j)\n"
     ]
    }
   ],
   "source": [
    "tk=400+300j\n",
    "print(tk)"
   ]
  },
  {
   "cell_type": "markdown",
   "id": "9aa4a311",
   "metadata": {},
   "source": [
    "# 4.Boolen-\n",
    "A boolean (bool) data type is an essential programming concept. The binary data type represents two values: true or false. The two states help control programming flow, conditional statements, and the decision-making process in a program\n"
   ]
  },
  {
   "cell_type": "code",
   "execution_count": 13,
   "id": "460aea1e",
   "metadata": {},
   "outputs": [
    {
     "data": {
      "text/plain": [
       "False"
      ]
     },
     "execution_count": 13,
     "metadata": {},
     "output_type": "execute_result"
    }
   ],
   "source": [
    "86<64"
   ]
  },
  {
   "cell_type": "code",
   "execution_count": 14,
   "id": "3312a651",
   "metadata": {},
   "outputs": [
    {
     "data": {
      "text/plain": [
       "True"
      ]
     },
     "execution_count": 14,
     "metadata": {},
     "output_type": "execute_result"
    }
   ],
   "source": [
    "78>67"
   ]
  },
  {
   "cell_type": "code",
   "execution_count": 15,
   "id": "f699a512",
   "metadata": {},
   "outputs": [
    {
     "data": {
      "text/plain": [
       "True"
      ]
     },
     "execution_count": 15,
     "metadata": {},
     "output_type": "execute_result"
    }
   ],
   "source": [
    "678>8"
   ]
  },
  {
   "cell_type": "code",
   "execution_count": 17,
   "id": "e17b038b",
   "metadata": {},
   "outputs": [
    {
     "data": {
      "text/plain": [
       "False"
      ]
     },
     "execution_count": 17,
     "metadata": {},
     "output_type": "execute_result"
    }
   ],
   "source": [
    "100==200"
   ]
  },
  {
   "cell_type": "markdown",
   "id": "3fd10036",
   "metadata": {},
   "source": [
    "# Type Functions:\n",
    "The type() function is mostly used for debugging purposes. Two different types of arguments can be passed to type() function, single and three arguments. If a single argument type(obj) is passed, it returns the type of the given object. If three argument types (object, bases, dict) are passed, it returns a new type object.\n"
   ]
  },
  {
   "cell_type": "code",
   "execution_count": 18,
   "id": "0fb3b33e",
   "metadata": {},
   "outputs": [
    {
     "name": "stdout",
     "output_type": "stream",
     "text": [
      "<class 'int'>\n"
     ]
    }
   ],
   "source": [
    "a=100\n",
    "print(type(a))"
   ]
  },
  {
   "cell_type": "code",
   "execution_count": 19,
   "id": "0516822d",
   "metadata": {},
   "outputs": [
    {
     "name": "stdout",
     "output_type": "stream",
     "text": [
      "<class 'float'>\n"
     ]
    }
   ],
   "source": [
    "g=20.555\n",
    "print(type(g))"
   ]
  },
  {
   "cell_type": "code",
   "execution_count": 20,
   "id": "ed58a87a",
   "metadata": {},
   "outputs": [
    {
     "name": "stdout",
     "output_type": "stream",
     "text": [
      "<class 'complex'>\n"
     ]
    }
   ],
   "source": [
    "lg=20+4000000j\n",
    "print(type(lg))"
   ]
  },
  {
   "cell_type": "markdown",
   "id": "11e8f8b7",
   "metadata": {},
   "source": [
    "# Type conversion:\n",
    "Python defines type conversion functions to directly convert one data type to another which is useful in day-to-day and competitive programming.\n"
   ]
  },
  {
   "cell_type": "code",
   "execution_count": 21,
   "id": "e5d13668",
   "metadata": {},
   "outputs": [
    {
     "name": "stdout",
     "output_type": "stream",
     "text": [
      "300.0\n"
     ]
    }
   ],
   "source": [
    "x=300\n",
    "y=float(x)\n",
    "print(y)"
   ]
  },
  {
   "cell_type": "code",
   "execution_count": 22,
   "id": "54e3f0f1",
   "metadata": {},
   "outputs": [
    {
     "name": "stdout",
     "output_type": "stream",
     "text": [
      "57.0\n"
     ]
    }
   ],
   "source": [
    "y=57\n",
    "x=float(y)\n",
    "print(x)"
   ]
  },
  {
   "cell_type": "code",
   "execution_count": 23,
   "id": "68e366e4",
   "metadata": {},
   "outputs": [
    {
     "name": "stdout",
     "output_type": "stream",
     "text": [
      "40.0\n"
     ]
    }
   ],
   "source": [
    "lp=40\n",
    "dj=float(lp)\n",
    "print(dj)"
   ]
  },
  {
   "cell_type": "code",
   "execution_count": 24,
   "id": "15e72408",
   "metadata": {},
   "outputs": [
    {
     "name": "stdout",
     "output_type": "stream",
     "text": [
      "2\n"
     ]
    }
   ],
   "source": [
    "z=2.99\n",
    "y=int(z)\n",
    "print(y)"
   ]
  },
  {
   "cell_type": "code",
   "execution_count": 25,
   "id": "80154087",
   "metadata": {},
   "outputs": [
    {
     "name": "stdout",
     "output_type": "stream",
     "text": [
      "40\n"
     ]
    }
   ],
   "source": [
    "nadbiyg=40.56\n",
    "dnfbiye=int(nadbiyg)\n",
    "print(dnfbiye)\n",
    "     "
   ]
  },
  {
   "cell_type": "code",
   "execution_count": 26,
   "id": "32e01f5e",
   "metadata": {},
   "outputs": [
    {
     "name": "stdout",
     "output_type": "stream",
     "text": [
      "(3.66+0j)\n"
     ]
    }
   ],
   "source": [
    "f=3.66\n",
    "s=complex(f)\n",
    "print(s)\n",
    "     "
   ]
  },
  {
   "cell_type": "code",
   "execution_count": 27,
   "id": "fca55128",
   "metadata": {},
   "outputs": [
    {
     "ename": "TypeError",
     "evalue": "int() argument must be a string, a bytes-like object or a real number, not 'complex'",
     "output_type": "error",
     "traceback": [
      "\u001b[1;31m---------------------------------------------------------------------------\u001b[0m",
      "\u001b[1;31mTypeError\u001b[0m                                 Traceback (most recent call last)",
      "Cell \u001b[1;32mIn[27], line 2\u001b[0m\n\u001b[0;32m      1\u001b[0m s\u001b[38;5;241m=\u001b[39m\u001b[38;5;241m3\u001b[39m\u001b[38;5;241m+\u001b[39m\u001b[38;5;241m7\u001b[39mj\n\u001b[1;32m----> 2\u001b[0m d\u001b[38;5;241m=\u001b[39m\u001b[38;5;28;43mint\u001b[39;49m\u001b[43m(\u001b[49m\u001b[43ms\u001b[49m\u001b[43m)\u001b[49m\n\u001b[0;32m      3\u001b[0m \u001b[38;5;28mprint\u001b[39m(d)\n",
      "\u001b[1;31mTypeError\u001b[0m: int() argument must be a string, a bytes-like object or a real number, not 'complex'"
     ]
    }
   ],
   "source": [
    "s=3+7j\n",
    "d=int(s)\n",
    "print(d)\n"
   ]
  },
  {
   "cell_type": "markdown",
   "id": "4a3c6a46",
   "metadata": {},
   "source": [
    "# TypeError\n",
    ": float() argument must be a string or a real number, not 'complex'\n",
    "Boolean"
   ]
  },
  {
   "cell_type": "code",
   "execution_count": 28,
   "id": "50d23724",
   "metadata": {},
   "outputs": [
    {
     "data": {
      "text/plain": [
       "True"
      ]
     },
     "execution_count": 28,
     "metadata": {},
     "output_type": "execute_result"
    }
   ],
   "source": [
    "bool(78)\n"
   ]
  },
  {
   "cell_type": "code",
   "execution_count": 29,
   "id": "3e1d8ddd",
   "metadata": {},
   "outputs": [
    {
     "data": {
      "text/plain": [
       "False"
      ]
     },
     "execution_count": 29,
     "metadata": {},
     "output_type": "execute_result"
    }
   ],
   "source": [
    "bool()"
   ]
  },
  {
   "cell_type": "code",
   "execution_count": null,
   "id": "fe756210",
   "metadata": {},
   "outputs": [],
   "source": []
  }
 ],
 "metadata": {
  "kernelspec": {
   "display_name": "Python 3 (ipykernel)",
   "language": "python",
   "name": "python3"
  },
  "language_info": {
   "codemirror_mode": {
    "name": "ipython",
    "version": 3
   },
   "file_extension": ".py",
   "mimetype": "text/x-python",
   "name": "python",
   "nbconvert_exporter": "python",
   "pygments_lexer": "ipython3",
   "version": "3.10.9"
  }
 },
 "nbformat": 4,
 "nbformat_minor": 5
}
