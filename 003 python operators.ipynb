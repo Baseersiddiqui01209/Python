{
 "cells": [
  {
   "cell_type": "markdown",
   "id": "741b06df",
   "metadata": {},
   "source": [
    "OPERATORS ON PYTHON\n",
    "\n",
    "Operators are used to perform operations on variables and values.\n",
    "\n",
    "In the example below, we use the + operator to add together two values:\n",
    "\n",
    "print(10 + 5)\n",
    "\n",
    "Python divides the operators in the following groups:\n",
    "\n",
    "1) Arithmetic operators\n",
    "2) Assignment operators\n",
    "3) Comparison operators\n",
    "4) Logical operators\n",
    "5) Identity operators\n",
    "6) Membership operators\n",
    "7) Bitwise operators\n",
    "\n",
    "\n",
    "Python Arithmetic Operators\n",
    "Arithmetic operators are used with numeric values to perform common mathematical operations:\n",
    "\n",
    "Operator\tName\t         Example\t\n",
    "+\t      Addition        \t x + y\t\n",
    "-\t     Subtraction\t     x - y\t\n",
    "*   \tMultiplication\t     x * y\t\n",
    "/\t       Division\t         x / y\t\n",
    "%\t        Modulus          x % y\t\n",
    "**   \tExponentiation\t     x ** y\t\n",
    "//     \tFloor division     \t x // y\n",
    "\n",
    "\n",
    " Assignment Operators\n",
    "Assignment operators are used to assign values to variables:\n",
    "\n",
    "Operator\t         Example\n",
    "=            \tx = 5\tx = 5\t\n",
    "+=   \t        x += 3\tx = x + 3\t\n",
    "-=\t            x -= 3\tx = x - 3\t\n",
    "*=\t            x *= 3\tx = x * 3\t\n",
    "/=\t            x /= 3\tx = x / 3\t\n",
    "%=\t            x %= 3\tx = x % 3\t\n",
    "//=\t            x //= 3\tx = x // 3\t\n",
    "**=          \tx **= 3\tx = x ** 3\t\n",
    "&=\t            x &= 3\tx = x & 3\t\n",
    "|=\t            x |= 3\tx = x | 3\t\n",
    "^=             \tx ^= 3\tx = x ^ 3\t\n",
    ">>=\t            x >>= 3\tx = x >> 3\t\n",
    "<<=         \tx <<= 3\tx = x << \n",
    "\n",
    "Comparison Operators\n",
    "Comparison operators are used to compare two values:\n",
    "\n",
    "Operator\t        Name\t                example\n",
    "==\t                 equal                  \\x == y\t\n",
    "!=\t               Not equal\t            x != y\t\n",
    ">            \tGreater than\t            x > y\t\n",
    "<\t               Less than\t            x < y\t\n",
    ">=\t           Greater than or equal to    \tx >= y\t\n",
    "<=\t           Less than or equal to\t    x <= y\n",
    "\n",
    "\n",
    " Logical Operators\n",
    "Logical operators are used to combine conditional statements:\n",
    "\n",
    "Operator       \t   Description\t                                             Example\t\n",
    "and \t    Returns True if both statements are true\t                  x < 5 and  x < 10\t\n",
    "or      \tReturns True if one of the statements is true            \t  x < 5 or x < 4\t\n",
    "not     \tReverse the result, returns False if the result is true\tnot  (x < 5 and x < 10)\n",
    "\n",
    "\n",
    "Identity Operators\n",
    "Identity operators are used to compare the objects, not if they are equal, but if they are actually the same object, with the same memory location:\n",
    "\n",
    "Operator\t                     Description\t                                          Example\t\n",
    "is \t            Returns True if both variables are the same object\t                      x is y\t\n",
    "is not\t        Returns True if both variables are not the same object                 \t  x is not y\n",
    "\n",
    "\n",
    "Membership Operators\n",
    "Membership operators are used to test if a sequence is presented in an object:\n",
    "\n",
    "Operator\t                 Description\t                                                     Example\t\n",
    "in \t       Returns True if a sequence with the specified value is present in the object        \t x in y\t\n",
    "not in\t   Returns True if a sequence with the specified value is not present in the object\t     x not in y\n",
    "\n",
    "\n",
    " Bitwise Operators\n",
    "Bitwise operators are used to compare (binary) numbers:\n",
    "\n",
    "Operator         \tName\t              Description\t                                   Example\tTry it\n",
    "&               \tAND\t           Sets each bit to 1 if both bits are 1                    \tx & y\t\n",
    "|\t                OR             Sets each bit to 1 if one of two bits is 1\t                x | y\t\n",
    "^\t                XOR\t           Sets each bit to 1 if only one of two bits is 1             \tx ^ y\t\n",
    "~\t                NOT       \t   Inverts all the bits                                        \t~x\t\n",
    "<<\t     Zero fill left shift\tShift left by pushing zeros in from the right and\n",
    "                                let the leftmost bits fall off\t                                x << 2\t\n",
    ">>\t     Signed right shift\t    Shift right by pushing copies of the leftmost bit in\n",
    "                                from the left, and let the rightmost bits fall off\t            x >> 2"
   ]
  },
  {
   "cell_type": "code",
   "execution_count": 2,
   "id": "d9807766",
   "metadata": {},
   "outputs": [
    {
     "data": {
      "text/plain": [
       "70"
      ]
     },
     "execution_count": 2,
     "metadata": {},
     "output_type": "execute_result"
    }
   ],
   "source": [
    "#examples arthamatic operators\n",
    "20+50\n",
    "\n"
   ]
  },
  {
   "cell_type": "code",
   "execution_count": 3,
   "id": "0a705b5a",
   "metadata": {},
   "outputs": [
    {
     "data": {
      "text/plain": [
       "-20"
      ]
     },
     "execution_count": 3,
     "metadata": {},
     "output_type": "execute_result"
    }
   ],
   "source": [
    "20-40\n"
   ]
  },
  {
   "cell_type": "code",
   "execution_count": 4,
   "id": "5cb92c32",
   "metadata": {},
   "outputs": [
    {
     "data": {
      "text/plain": [
       "800"
      ]
     },
     "execution_count": 4,
     "metadata": {},
     "output_type": "execute_result"
    }
   ],
   "source": [
    "20*40\n"
   ]
  },
  {
   "cell_type": "code",
   "execution_count": 5,
   "id": "6f68b1d3",
   "metadata": {},
   "outputs": [
    {
     "data": {
      "text/plain": [
       "0.5"
      ]
     },
     "execution_count": 5,
     "metadata": {},
     "output_type": "execute_result"
    }
   ],
   "source": [
    "20/40"
   ]
  },
  {
   "cell_type": "code",
   "execution_count": 6,
   "id": "da8ef0dd",
   "metadata": {},
   "outputs": [
    {
     "data": {
      "text/plain": [
       "300"
      ]
     },
     "execution_count": 6,
     "metadata": {},
     "output_type": "execute_result"
    }
   ],
   "source": [
    "300%500"
   ]
  },
  {
   "cell_type": "code",
   "execution_count": 8,
   "id": "d33aa823",
   "metadata": {},
   "outputs": [
    {
     "data": {
      "text/plain": [
       "16"
      ]
     },
     "execution_count": 8,
     "metadata": {},
     "output_type": "execute_result"
    }
   ],
   "source": [
    "2**4"
   ]
  },
  {
   "cell_type": "code",
   "execution_count": 13,
   "id": "45a9cd56",
   "metadata": {},
   "outputs": [
    {
     "data": {
      "text/plain": [
       "1"
      ]
     },
     "execution_count": 13,
     "metadata": {},
     "output_type": "execute_result"
    }
   ],
   "source": [
    "8//5"
   ]
  },
  {
   "cell_type": "code",
   "execution_count": null,
   "id": "7fa2bd05",
   "metadata": {},
   "outputs": [],
   "source": []
  },
  {
   "cell_type": "code",
   "execution_count": null,
   "id": "d6cf7954",
   "metadata": {},
   "outputs": [],
   "source": []
  }
 ],
 "metadata": {
  "kernelspec": {
   "display_name": "Python 3 (ipykernel)",
   "language": "python",
   "name": "python3"
  },
  "language_info": {
   "codemirror_mode": {
    "name": "ipython",
    "version": 3
   },
   "file_extension": ".py",
   "mimetype": "text/x-python",
   "name": "python",
   "nbconvert_exporter": "python",
   "pygments_lexer": "ipython3",
   "version": "3.10.9"
  }
 },
 "nbformat": 4,
 "nbformat_minor": 5
}
