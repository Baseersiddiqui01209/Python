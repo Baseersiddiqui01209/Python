{
 "cells": [
  {
   "cell_type": "markdown",
   "id": "5fb1aeea",
   "metadata": {},
   "source": [
    "# Conditional Statements:\n",
    "\n",
    "Understanding and mastering Python's conditional statements is fundamental for any programmer aspiring to write efficient and robust code.\n",
    "In this guide, we'll delve into the intricacies of conditional statements in python,covering the basics,advanced techniques,and best practices.\n",
    "Conditional Statements are statements in Python that provide a choice for the control flow based on a condition.\n",
    "It means that the control flow of the Python program will be decided based on the outcome of the condition."
   ]
  },
  {
   "cell_type": "markdown",
   "id": "3ee415c1",
   "metadata": {},
   "source": [
    "# 1. If Conditional Statement\n",
    "\n",
    "If the simple code of block is to be performed if the condition holds then the if statement is used.\n",
    "Here the condition mentioned holds then the code of the block runs otherwise not."
   ]
  },
  {
   "cell_type": "markdown",
   "id": "8e359b8b",
   "metadata": {},
   "source": [
    "# 2. If else Conditional Statements\n",
    "\n",
    "In a conditional if Statement the additional block of code is merged as an else statement which is performed when if condition is false."
   ]
  },
  {
   "cell_type": "markdown",
   "id": "6048a0a7",
   "metadata": {},
   "source": [
    "# 3. If-elif-else Conditional Statements\n",
    "\n",
    "The if statements are executed from the top down.\n",
    "As soon as one of the conditions controlling the if is true, the statement associated with that if is executed, and the rest of the ladder is bypassed.\n",
    "If none of the conditions is true, then the final “else” statement will be executed."
   ]
  },
  {
   "cell_type": "code",
   "execution_count": 1,
   "id": "ff6df1ba",
   "metadata": {},
   "outputs": [
    {
     "name": "stdout",
     "output_type": "stream",
     "text": [
      "10 is a positive number\n"
     ]
    }
   ],
   "source": [
    "#if\n",
    "num=10\n",
    "if num>0:\n",
    "    print(num,\"is a positive number\")"
   ]
  },
  {
   "cell_type": "code",
   "execution_count": 2,
   "id": "da333688",
   "metadata": {},
   "outputs": [
    {
     "name": "stdout",
     "output_type": "stream",
     "text": [
      "-5 is a negative number\n"
     ]
    }
   ],
   "source": [
    "#else\n",
    "num=-5\n",
    "if num>0:\n",
    "    print(num,\"is a positive number\")\n",
    "else:\n",
    "    print(num,\"is a negative number\")"
   ]
  },
  {
   "cell_type": "code",
   "execution_count": 3,
   "id": "fb623652",
   "metadata": {},
   "outputs": [
    {
     "name": "stdout",
     "output_type": "stream",
     "text": [
      "0 is zero\n"
     ]
    }
   ],
   "source": [
    "#elif\n",
    "num=0\n",
    "if num>0:\n",
    "    print(num,\"is a positive number\")\n",
    "elif num==0:\n",
    "    print(num,\"is zero\")\n",
    "else:\n",
    "    print(num,\"is a negative number\")"
   ]
  },
  {
   "cell_type": "code",
   "execution_count": 4,
   "id": "db1e3987",
   "metadata": {},
   "outputs": [
    {
     "name": "stdout",
     "output_type": "stream",
     "text": [
      "num is even\n"
     ]
    }
   ],
   "source": [
    "#check whether the given number is even or odd\n",
    "num=6\n",
    "if num%2==0:\n",
    "    print(\"num is even\")\n",
    "else:\n",
    "    print(\"number is odd\")"
   ]
  },
  {
   "cell_type": "code",
   "execution_count": 7,
   "id": "2d7eda4c",
   "metadata": {},
   "outputs": [
    {
     "name": "stdout",
     "output_type": "stream",
     "text": [
      "2009 is not a leap year\n"
     ]
    }
   ],
   "source": [
    "#leap year program\n",
    "year=2009\n",
    "if year%9==0:\n",
    "    print(year,\"is a leap year\")\n",
    "else:\n",
    "    print(year,\"is not a leap year\")\n"
   ]
  },
  {
   "cell_type": "code",
   "execution_count": 6,
   "id": "26d1499e",
   "metadata": {},
   "outputs": [
    {
     "name": "stdout",
     "output_type": "stream",
     "text": [
      "y is greater\n"
     ]
    }
   ],
   "source": [
    "#maximum of three numbers\n",
    "k=10\n",
    "y=14\n",
    "d=12\n",
    "if k>=y and k>=d:\n",
    "    print('k is greater')\n",
    "elif y>=k and y>=d:\n",
    "    print('y is greater')\n",
    "else:\n",
    "    print('d is greater')"
   ]
  },
  {
   "cell_type": "code",
   "execution_count": null,
   "id": "3ee2a4b9",
   "metadata": {},
   "outputs": [],
   "source": []
  }
 ],
 "metadata": {
  "kernelspec": {
   "display_name": "Python 3 (ipykernel)",
   "language": "python",
   "name": "python3"
  },
  "language_info": {
   "codemirror_mode": {
    "name": "ipython",
    "version": 3
   },
   "file_extension": ".py",
   "mimetype": "text/x-python",
   "name": "python",
   "nbconvert_exporter": "python",
   "pygments_lexer": "ipython3",
   "version": "3.10.9"
  }
 },
 "nbformat": 4,
 "nbformat_minor": 5
}
