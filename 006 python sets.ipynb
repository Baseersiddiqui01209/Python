{
 "cells": [
  {
   "cell_type": "markdown",
   "id": "a1baa8b0",
   "metadata": {},
   "source": [
    "# set\n",
    "A set is a data collection type used in Python for storing multiple items in a single variable. Sets in Python are unordered and, as such, are not always consistent in the order they get returned. Furthermore, items in the set are immutable — ie. cannot be changed. However, items can be added and removed.\n",
    "\n",
    "Duplicates are not permitted with Python data sets and will be removed. It is also noteworthy that the Python set supports any data type — including numbers, strings, and booleans — but also has some support for nested data structures.\n",
    "\n",
    "# How to Create a Set in Python\n",
    "The standard declaration approach for creating a Python set uses curly bracket notation. It is the most commonly used approach and has a very simple syntax. Let's look at that next.\n",
    "snekSet = {\"Boa\", \"Python\", \"Garter\"}\n",
    "The set constructor is another approach for creating Python sets. This method is more direct and offers other benefits, such as creating more complex set instances.\n",
    "\n"
   ]
  },
  {
   "cell_type": "markdown",
   "id": "66e67923",
   "metadata": {},
   "source": [
    "# Empty Set\n",
    "To make an empty set in Python, use the set() function with no arguments; if we use empty curly brackets \"{}\", we will get an empty dictionary.\n",
    "\n"
   ]
  },
  {
   "cell_type": "code",
   "execution_count": 1,
   "id": "82313355",
   "metadata": {},
   "outputs": [
    {
     "name": "stdout",
     "output_type": "stream",
     "text": [
      "<class 'set'>\n"
     ]
    }
   ],
   "source": [
    "myEmptySet = set()\n",
    "print(type(myEmptySet))"
   ]
  },
  {
   "cell_type": "code",
   "execution_count": 4,
   "id": "e38efce4",
   "metadata": {},
   "outputs": [],
   "source": [
    "# creating an empty set\n",
    "#empty.set=seta()\n",
    "#creating a set with elements\n",
    "fruits={'apple','banana','orange'}"
   ]
  },
  {
   "cell_type": "code",
   "execution_count": 6,
   "id": "87340595",
   "metadata": {},
   "outputs": [
    {
     "name": "stdout",
     "output_type": "stream",
     "text": [
      "{1, 2, 3, 4, 5, 6}\n"
     ]
    }
   ],
   "source": [
    "#converting a list into set \n",
    "numbers= set([1,2,3,4,5,6])\n",
    "print(numbers)"
   ]
  },
  {
   "cell_type": "markdown",
   "id": "bddf5bfc",
   "metadata": {},
   "source": [
    "# adding of items to a set in python\n"
   ]
  },
  {
   "cell_type": "code",
   "execution_count": 18,
   "id": "3a7e5b4a",
   "metadata": {},
   "outputs": [
    {
     "name": "stdout",
     "output_type": "stream",
     "text": [
      "initial set {97, 23, 6, 7, 8, 76, 45}\n",
      "updated set\n"
     ]
    }
   ],
   "source": [
    "numbers={23,45,6,7,8,97,45,76,}\n",
    "print('initial set', numbers)\n",
    "#using add() mrthod\n",
    "numbers.add(22) \n",
    "print('updated set')\n"
   ]
  },
  {
   "cell_type": "code",
   "execution_count": 19,
   "id": "24c9996e",
   "metadata": {},
   "outputs": [
    {
     "name": "stdout",
     "output_type": "stream",
     "text": [
      "{'orange', 'banana', 'apple', 'cherry'}\n"
     ]
    }
   ],
   "source": [
    "#Add an item to a set, using the add() method:\n",
    "\n",
    "thisset = {\"apple\", \"banana\", \"cherry\"}\n",
    "\n",
    "thisset.add(\"orange\")\n",
    "\n",
    "print(thisset)"
   ]
  },
  {
   "cell_type": "markdown",
   "id": "d27d1665",
   "metadata": {},
   "source": [
    "# removing of elements\n",
    "\n",
    "There are a couple of other ways to remove an element(s) from a set:\n",
    "\n",
    "the discard(x) method removes x from the set, but doesn't raise any error if x is not present in the set.\n",
    "the pop() method removes and returns a random element from the set.\n",
    "the clear() method removes all elements from a set"
   ]
  },
  {
   "cell_type": "markdown",
   "id": "bf4c3489",
   "metadata": {},
   "source": [
    "# Python set() Operations\n",
    "\n",
    "If you remember your basic high school math, you'll probably recall mathematical set operations like union, intersection, difference and symmetric difference. Well, you can achieve the same thing with Python sets.\n",
    "\n"
   ]
  },
  {
   "cell_type": "markdown",
   "id": "5ecc3465",
   "metadata": {},
   "source": [
    "# 1. Set Union\n",
    "The union of two sets is the set of all the elements of both the sets without duplicates. You can use the union() method or the | syntax to find the union of a Python set."
   ]
  },
  {
   "cell_type": "code",
   "execution_count": 23,
   "id": "926755b1",
   "metadata": {},
   "outputs": [
    {
     "data": {
      "text/plain": [
       "{1, 2, 3, 4, 5}"
      ]
     },
     "execution_count": 23,
     "metadata": {},
     "output_type": "execute_result"
    }
   ],
   "source": [
    ">>> first_set = {1, 2, 3}\n",
    ">>> second_set = {3, 4, 5}\n",
    ">>> first_set.union(second_set)"
   ]
  },
  {
   "cell_type": "markdown",
   "id": "81fe6237",
   "metadata": {},
   "source": [
    "# 2. Set Intersection\n",
    "The intersection of two sets is the set of all the common elements of both the sets. You can use the intersection() method of the & operator to find the intersection of a Python set."
   ]
  },
  {
   "cell_type": "code",
   "execution_count": 24,
   "id": "c88daef2",
   "metadata": {},
   "outputs": [
    {
     "data": {
      "text/plain": [
       "{4, 5, 6}"
      ]
     },
     "execution_count": 24,
     "metadata": {},
     "output_type": "execute_result"
    }
   ],
   "source": [
    "\n",
    ">>> first_set = {1, 2, 3, 4, 5, 6}\n",
    ">>> second_set = {4, 5, 6, 7, 8, 9}\n",
    ">>> first_set.intersection(second_set)"
   ]
  },
  {
   "cell_type": "markdown",
   "id": "ee8c9eba",
   "metadata": {},
   "source": [
    "# 3. Set Difference\n",
    "The difference between two sets is the set of all the elements in first set that are not present in the second set. You would use the difference() method or the - operator to achieve this in Python.\n"
   ]
  },
  {
   "cell_type": "code",
   "execution_count": 25,
   "id": "cec372c6",
   "metadata": {},
   "outputs": [
    {
     "data": {
      "text/plain": [
       "{1, 2, 3}"
      ]
     },
     "execution_count": 25,
     "metadata": {},
     "output_type": "execute_result"
    }
   ],
   "source": [
    ">>> first_set = {1, 2, 3, 4, 5, 6}\n",
    ">>> second_set = {4, 5, 6, 7, 8, 9}\n",
    ">>> first_set.difference(second_set)\n",
    "{1, 2, 3}"
   ]
  },
  {
   "cell_type": "code",
   "execution_count": 26,
   "id": "5d8c75b7",
   "metadata": {},
   "outputs": [
    {
     "data": {
      "text/plain": [
       "{1, 2, 3}"
      ]
     },
     "execution_count": 26,
     "metadata": {},
     "output_type": "execute_result"
    }
   ],
   "source": [
    ">>> first_set - second_set     # using the `-` operator\n",
    "{1, 2, 3}\n",
    "\n"
   ]
  },
  {
   "cell_type": "markdown",
   "id": "f459d92a",
   "metadata": {},
   "source": [
    "# 4. Set Symmetric Difference\n",
    "The symmetric difference between two sets is the set of all the elements that are either in the first set or the second set but not in both.\n",
    "\n",
    "You have the choice of using either the symmetric_difference() method or the ^ operator to do this in Python.\n"
   ]
  },
  {
   "cell_type": "code",
   "execution_count": 27,
   "id": "2a5b6337",
   "metadata": {},
   "outputs": [
    {
     "data": {
      "text/plain": [
       "{1, 2, 3, 7, 8, 9}"
      ]
     },
     "execution_count": 27,
     "metadata": {},
     "output_type": "execute_result"
    }
   ],
   "source": [
    ">>> first_set = {1, 2, 3, 4, 5, 6}\n",
    ">>> second_set = {4, 5, 6, 7, 8, 9}\n",
    ">>> first_set.symmetric_difference(second_set)"
   ]
  },
  {
   "cell_type": "code",
   "execution_count": 28,
   "id": "8cd812da",
   "metadata": {},
   "outputs": [
    {
     "data": {
      "text/plain": [
       "{1, 2, 3, 7, 8, 9}"
      ]
     },
     "execution_count": 28,
     "metadata": {},
     "output_type": "execute_result"
    }
   ],
   "source": [
    ">>> first_set ^ second_set     # using the `^` operator"
   ]
  },
  {
   "cell_type": "code",
   "execution_count": null,
   "id": "51610d0d",
   "metadata": {},
   "outputs": [],
   "source": []
  }
 ],
 "metadata": {
  "kernelspec": {
   "display_name": "Python 3 (ipykernel)",
   "language": "python",
   "name": "python3"
  },
  "language_info": {
   "codemirror_mode": {
    "name": "ipython",
    "version": 3
   },
   "file_extension": ".py",
   "mimetype": "text/x-python",
   "name": "python",
   "nbconvert_exporter": "python",
   "pygments_lexer": "ipython3",
   "version": "3.10.9"
  }
 },
 "nbformat": 4,
 "nbformat_minor": 5
}
