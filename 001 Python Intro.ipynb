{
 "cells": [
  {
   "cell_type": "markdown",
   "id": "67405857-4156-4667-a66a-98986aa30e83",
   "metadata": {},
   "source": [
    "1) What is Python? \n",
    "Python is an interpreted, object-oriented, high-level programming language with dynamic semantics. Its high-level built in data structures, combined with dynamic typing and dynamic binding, make it very attractive for Rapid Application Development, as well as for use as a scripting or glue language to connect existing components together. Python's simple, easy to learn syntax emphasizes readability and therefore reduces the cost of program maintenance. Python supports modules and packages, which encourages program modularity and code reuse. The Python interpreter and the extensive standard library are available in source or binary form without charge for all major platforms, and can be freely distributed.\n",
    "\n",
    "Often, programmers fall in love with Python because of the increased productivity it provides. Since there is no compilation step, the edit-test-debug cycle is incredibly fast. Debugging Python programs is easy: a bug or bad input will never cause a segmentation fault. Instead, when the interpreter discovers an error, it raises an exception. When the program doesn't catch the exception, the interpreter prints a stack trace. A source level debugger allows inspection of local and global variables, evaluation of arbitrary expressions, setting breakpoints, stepping through the code a line at a time, and so on. The debugger is written in Python itself, testifying to Python's introspective power. On the other hand, often the quickest way to debug a program is to add a few print statements to the source: the fast edit-test-debug cycle makes this simple approach very effective."
   ]
  },
  {
   "cell_type": "markdown",
   "id": "2dc6c379-6c57-4116-b82f-a597378de5a9",
   "metadata": {},
   "source": [
    "2) history of python \n",
    "Python is a widely used general-purpose, high-level programming language. It was initially designed by Guido van Rossum in 1991 and developed by Python Software Foundation. It was mainly developed to emphasize code readability, and its syntax allows programmers to express concepts in fewer lines of code.\n",
    "\n",
    "Who Invented Python?\n",
    "In the late 1980s, history was about to be written. It was that time when working on Python started. Soon after that, Guido Van Rossum began doing its application-based work in December of 1989 at Centrum Wiskunde & Informatica (CWI) which is situated in the Netherlands. It was started as a hobby project because he was looking for an interesting project to keep him occupied during Christmas.\n",
    "\n",
    "The programming language in which Python is said to have succeeded is ABC Programming Language, which had interfacing with the Amoeba Operating System and had the feature of exception handling. He had already helped create ABC earlier in his career and had seen some issues with ABC but liked most of the features. After that what he did was very clever. He had taken the syntax of ABC, and some of its good features. It came with a lot of complaints too, so he fixed those issues completely and created a good scripting language that had removed all the flaws."
   ]
  },
  {
   "cell_type": "markdown",
   "id": "b20fc613-fbaf-4de7-9adb-b29dc813b4c1",
   "metadata": {},
   "source": [
    "3) Python Comments \n",
    "comments is use to explain the code\n",
    "there are two type of comments.\n",
    " single-line comments, multi-line comments,.\n",
    "\n",
    "Introduction to Python Commes\n",
    "nts\n",
    "We may wish to describe the code we develop. We might wish to take notes of why a section of script functions, for instance. We leverage the remarks to accomplish this. Formulas, procedures, and sophisticated business logic are typically explained with comments. The Python interpreter overlooks the remarks and solely interprets the script when running a program. Single-line comments, multi-line comments, and documentation strings are the 3 types of comments in Python.\n",
    "\n",
    "Advantages of Using Comments\n",
    "Our code is more comprehensible when we use comments in it. It assists us in recalling why specific sections of code were created by making the program more understandable.\n",
    "\n",
    "Aside from that, we can leverage comments to overlook specific code while evaluating other code sections. This simple technique stops some lines from running or creates a fast pseudo-code for the program."
   ]
  },
  {
   "cell_type": "code",
   "execution_count": null,
   "id": "454b0f29-15f3-45c6-99d7-b0a971e3383d",
   "metadata": {},
   "outputs": [],
   "source": [
    "4) Python has a set of keywords that are reserved words that cannot be used as variable names, function names, or any other identifiers:\n",
    "\n",
    "Keyword\t\n",
    "\n",
    "\n",
    "break\t    To break out of a loop\n",
    "class\t    To define a class\n",
    "continue\tTo continue to the next iteration of a loop\n",
    "def\t        To define a function\n",
    "del\t        To delete an object\n",
    "elif\t    Used in conditional statements, same as else if\n",
    "else\t    Used in conditional statements\n",
    "except\t    Used with exceptions, what to do when an exception occurs\n",
    "False\t    Boolean value, result of comparison operations\n",
    "finally   \tUsed with exceptions, a block of code that will be executed no matter if there is an exception or not\n",
    "for\t        To create a for loop\n",
    "from\t    To import specific parts of a module\n",
    "global\t    To declare a global variable\n",
    "if\t        To make a conditional statement\n",
    "import\t    To import a module\n",
    "in\t        To check if a value is present in a list, tuple, etc.\n",
    "is\t        To test if two variables are equal\n",
    "lambda\t    To create an anonymous function\n",
    "None\t    Represents a null value\n",
    "nonlocal\tTo declare a non-local variable\n"
   ]
  },
  {
   "cell_type": "markdown",
   "id": "12e0e146-70a4-4c9f-9e7b-a2c02155ab4f",
   "metadata": {},
   "source": [
    "5) Features in Python\n",
    "In this section we will see what are the features of Python programming language:\n",
    "\n",
    "1. Free and Open Source\n",
    "Python language is freely available at the official website and you can download it from the given download link below click on the Download Python keyword. Download Python Since it is open-source, this means that source code is also available to the public. So you can download it, use it as well as share it. \n",
    "\n",
    "2. Easy to code\n",
    "Python is a high-level programming language. Python is very easy to learn the language as compared to other languages like C, C#, Javascript, Java, etc. It is very easy to code in the Python language and anybody can learn Python basics in a few hours or days. It is also a developer-friendly language. \n",
    "\n",
    "3. Easy to Read\n",
    "As you will see, learning Python is quite simple. As was already established, Python’s syntax is really straightforward. The code block is defined by the indentations rather than by semicolons or brackets.\n",
    "\n",
    "4. Object-Oriented Language\n",
    "One of the key features of Python is Object-Oriented programming. Python supports object-oriented language and concepts of classes, object encapsulation, etc. \n",
    "\n",
    "5. GUI Programming Support\n",
    "Graphical User interfaces can be made using a module such as PyQt5, PyQt4, wxPython, or Tk in Python. PyQt5 is the most popular option for creating graphical apps with Python.\n",
    "\n",
    "6. High-Level Language\n",
    "Python is a high-level language. When we write programs in Python, we do not need to remember the system architecture, nor do we need to manage the memory.\n",
    "\n",
    "7. Large Community Support\n",
    "Python has gained popularity over the years. Our questions are constantly answered by the enormous StackOverflow community. These websites have already provided answers to many questions about Python, so Python users can consult them as needed.\n",
    "\n",
    "8. Easy to Debug\n",
    "Excellent information for mistake tracing. You will be able to quickly identify and correct the majority of your program’s issues once you understand how to interpret Python’s error traces. Simply by glancing at the code, you can determine what it is designed to perform.\n",
    "\n",
    "9. Python is a Portable language\n",
    "Python language is also a portable language. For example, if we have Python code for Windows and if we want to run this code on other platforms such as Linux, Unix, and Mac then we do not need to change it, we can run this code on any platform.\n",
    "\n",
    "10. Python is an Integrated language\n",
    "Python is also an Integrated language because we can easily integrate Python with other languages like C, C++, etc. \n",
    "\n",
    "11. Interpreted Language: \n",
    "Python is an Interpreted Language because Python code is executed line by line at a time. like other languages C, C++, Java, etc. there is no need to compile Python code this makes it easier to debug our code. The source code of Python is converted into an immediate form called bytecode."
   ]
  }
 ],
 "metadata": {
  "kernelspec": {
   "display_name": "Python 3 (ipykernel)",
   "language": "python",
   "name": "python3"
  },
  "language_info": {
   "codemirror_mode": {
    "name": "ipython",
    "version": 3
   },
   "file_extension": ".py",
   "mimetype": "text/x-python",
   "name": "python",
   "nbconvert_exporter": "python",
   "pygments_lexer": "ipython3",
   "version": "3.10.9"
  }
 },
 "nbformat": 4,
 "nbformat_minor": 5
}
